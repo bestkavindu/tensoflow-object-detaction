{
 "cells": [
  {
   "cell_type": "code",
   "execution_count": 2,
   "metadata": {},
   "outputs": [],
   "source": [
    "import os"
   ]
  },
  {
   "cell_type": "code",
   "execution_count": 3,
   "metadata": {},
   "outputs": [],
   "source": [
    "CUSTOM_MODEL_NAME = 'my_ssd_mobnet'\n",
    "PRETRAINED_MODEL_NAME = 'SSD MobileNet V2 FPNLite 320x320'\n",
    "PRETRAINED_MODEL_URL = 'http://download.tensorflow.org/models/object_detection/tf2/20200711/ssd_mobilenet_v2_fpnlite_320x320_coco17_tpu-8.tar.gz'\n",
    "TF_RECORD_SCRIPT_NAME = 'genarate_tfrecord.py'\n",
    "LABEL_MAP_NAME =  'label_map.pbtxt'"
   ]
  },
  {
   "cell_type": "code",
   "execution_count": null,
   "metadata": {},
   "outputs": [],
   "source": []
  },
  {
   "cell_type": "code",
   "execution_count": 4,
   "metadata": {},
   "outputs": [],
   "source": [
    "paths ={\n",
    "    'WORKSPACE_PATH' : os.path.join('Tensorflow', 'workspace'),\n",
    "    'SCRIPTS_PATH' : os.path.join('Tensorflow', 'scripts'),\n",
    "    'APIMODEL_PATH' : os.path.join('Tensorflow', 'models'),\n",
    "    'ANNOTATION_PATH' : os.path.join('Tensorflow', 'workspace', 'annotations'),\n",
    "    'IMAGE_PATH' : os.path.join('Tensorflow', 'workspace', 'images'),\n",
    "    'MODEL_PATH' : os.path.join('Tensorflow','workspace','models'),\n",
    "    'PRETRAINED_MODEL_PATH' :os.path.join('Tensorflow','workspace', 'pre-trained-models'),\n",
    "    'CHECKPONT_PATH' : os.path.join('Tensorflow','workspace', 'models', CUSTOM_MODEL_NAME),\n",
    "    'OUTPUT_PATH' : os.path.join('Tensorflow','workspace', CUSTOM_MODEL_NAME, 'export'),\n",
    "    'TFJS_PATH' : os.path.join('Tensorflow','workspace', 'models', CUSTOM_MODEL_NAME, 'tfjsexport'),\n",
    "    'TFLITE_PATH' : os.path.join('Tensorflow','workspace', 'models', CUSTOM_MODEL_NAME, 'tfliteexport'),\n",
    "    'PROTOC_PATH' : os.path.join('Tensorflow', 'protoc')\n",
    "\n",
    "}"
   ]
  },
  {
   "cell_type": "code",
   "execution_count": 5,
   "metadata": {},
   "outputs": [],
   "source": [
    "files ={\n",
    "    'PIPELINE_CONFIG' : os.path.join('Tensorflow','workspace', 'models', CUSTOM_MODEL_NAME, 'pipeline.config'),\n",
    "    'TF_RECORD_SCRIPT': os.path.join(paths['SCRIPTS_PATH'], TF_RECORD_SCRIPT_NAME),\n",
    "    'LABELMAP': os.path.join(paths['ANNOTATION_PATH'], LABEL_MAP_NAME)\n",
    "}"
   ]
  },
  {
   "cell_type": "code",
   "execution_count": 6,
   "metadata": {},
   "outputs": [],
   "source": [
    "for path in paths.values():\n",
    "    if not os.path.exists(path):\n",
    "        if os.name == 'posix':\n",
    "            !mkdir -p {path}\n",
    "        if os.name == 'nt':\n",
    "            !mkdir {path}"
   ]
  },
  {
   "cell_type": "code",
   "execution_count": 16,
   "metadata": {},
   "outputs": [],
   "source": [
    "#download tf models pretrained models  from Tensorflow model zoo and install tfod"
   ]
  },
  {
   "cell_type": "code",
   "execution_count": 7,
   "metadata": {},
   "outputs": [
    {
     "name": "stdout",
     "output_type": "stream",
     "text": [
      "Requirement already satisfied: wget in c:\\users\\staff\\appdata\\local\\packages\\pythonsoftwarefoundation.python.3.10_qbz5n2kfra8p0\\localcache\\local-packages\\python310\\site-packages (3.2)\n"
     ]
    },
    {
     "name": "stderr",
     "output_type": "stream",
     "text": [
      "WARNING: You are using pip version 22.0.4; however, version 22.2.2 is available.\n",
      "You should consider upgrading via the 'C:\\Users\\Staff\\AppData\\Local\\Microsoft\\WindowsApps\\PythonSoftwareFoundation.Python.3.10_qbz5n2kfra8p0\\python.exe -m pip install --upgrade pip' command.\n"
     ]
    }
   ],
   "source": [
    "if os.name == 'nt':\n",
    "    !pip install wget\n",
    "    import wget"
   ]
  },
  {
   "cell_type": "code",
   "execution_count": 34,
   "metadata": {},
   "outputs": [
    {
     "name": "stderr",
     "output_type": "stream",
     "text": [
      "Cloning into 'Tensorflow\\models'...\n",
      "Updating files:  35% (1116/3175)\n",
      "Updating files:  36% (1143/3175)\n",
      "Updating files:  37% (1175/3175)\n",
      "Updating files:  38% (1207/3175)\n",
      "Updating files:  39% (1239/3175)\n",
      "Updating files:  40% (1270/3175)\n",
      "Updating files:  41% (1302/3175)\n",
      "Updating files:  42% (1334/3175)\n",
      "Updating files:  43% (1366/3175)\n",
      "Updating files:  44% (1397/3175)\n",
      "Updating files:  45% (1429/3175)\n",
      "Updating files:  46% (1461/3175)\n",
      "Updating files:  47% (1493/3175)\n",
      "Updating files:  48% (1524/3175)\n",
      "Updating files:  49% (1556/3175)\n",
      "Updating files:  50% (1588/3175)\n",
      "Updating files:  51% (1620/3175)\n",
      "Updating files:  52% (1651/3175)\n",
      "Updating files:  53% (1683/3175)\n",
      "Updating files:  54% (1715/3175)\n",
      "Updating files:  55% (1747/3175)\n",
      "Updating files:  56% (1778/3175)\n",
      "Updating files:  57% (1810/3175)\n",
      "Updating files:  58% (1842/3175)\n",
      "Updating files:  59% (1874/3175)\n",
      "Updating files:  60% (1905/3175)\n",
      "Updating files:  61% (1937/3175)\n",
      "Updating files:  62% (1969/3175)\n",
      "Updating files:  62% (1992/3175)\n",
      "Updating files:  63% (2001/3175)\n",
      "Updating files:  64% (2032/3175)\n",
      "Updating files:  65% (2064/3175)\n",
      "Updating files:  66% (2096/3175)\n",
      "Updating files:  67% (2128/3175)\n",
      "Updating files:  68% (2159/3175)\n",
      "Updating files:  69% (2191/3175)\n",
      "Updating files:  70% (2223/3175)\n",
      "Updating files:  71% (2255/3175)\n",
      "Updating files:  72% (2286/3175)\n",
      "Updating files:  73% (2318/3175)\n",
      "Updating files:  74% (2350/3175)\n",
      "Updating files:  75% (2382/3175)\n",
      "Updating files:  76% (2413/3175)\n",
      "Updating files:  77% (2445/3175)\n",
      "Updating files:  78% (2477/3175)\n",
      "Updating files:  79% (2509/3175)\n",
      "Updating files:  80% (2540/3175)\n",
      "Updating files:  81% (2572/3175)\n",
      "Updating files:  82% (2604/3175)\n",
      "Updating files:  83% (2636/3175)\n",
      "Updating files:  84% (2667/3175)\n",
      "Updating files:  85% (2699/3175)\n",
      "Updating files:  86% (2731/3175)\n",
      "Updating files:  87% (2763/3175)\n",
      "Updating files:  88% (2794/3175)\n",
      "Updating files:  89% (2826/3175)\n",
      "Updating files:  90% (2858/3175)\n",
      "Updating files:  91% (2890/3175)\n",
      "Updating files:  91% (2916/3175)\n",
      "Updating files:  92% (2921/3175)\n",
      "Updating files:  93% (2953/3175)\n",
      "Updating files:  94% (2985/3175)\n",
      "Updating files:  95% (3017/3175)\n",
      "Updating files:  96% (3048/3175)\n",
      "Updating files:  97% (3080/3175)\n",
      "Updating files:  98% (3112/3175)\n",
      "Updating files:  99% (3144/3175)\n",
      "Updating files: 100% (3175/3175)\n",
      "Updating files: 100% (3175/3175), done.\n"
     ]
    }
   ],
   "source": [
    "if not os.path.exists(os.path.join(paths['APIMODEL_PATH'], 'reaserch', 'object_detection')):\n",
    "    !git clone https://github.com/tensorflow/models {paths['APIMODEL_PATH']}\n"
   ]
  },
  {
   "cell_type": "code",
   "execution_count": 17,
   "metadata": {},
   "outputs": [
    {
     "name": "stderr",
     "output_type": "stream",
     "text": [
      "'protoc' is not recognized as an internal or external command,\n",
      "operable program or batch file.\n",
      "\n",
      "Usage:   \n",
      "  C:\\Users\\Staff\\AppData\\Local\\Microsoft\\WindowsApps\\PythonSoftwareFoundation.Python.3.10_qbz5n2kfra8p0\\python.exe -m pip install [options] <requirement specifier> [package-index-options] ...\n",
      "  C:\\Users\\Staff\\AppData\\Local\\Microsoft\\WindowsApps\\PythonSoftwareFoundation.Python.3.10_qbz5n2kfra8p0\\python.exe -m pip install [options] -r <requirements file> [package-index-options] ...\n",
      "  C:\\Users\\Staff\\AppData\\Local\\Microsoft\\WindowsApps\\PythonSoftwareFoundation.Python.3.10_qbz5n2kfra8p0\\python.exe -m pip install [options] [-e] <vcs project url> ...\n",
      "  C:\\Users\\Staff\\AppData\\Local\\Microsoft\\WindowsApps\\PythonSoftwareFoundation.Python.3.10_qbz5n2kfra8p0\\python.exe -m pip install [options] [-e] <local project path> ...\n",
      "  C:\\Users\\Staff\\AppData\\Local\\Microsoft\\WindowsApps\\PythonSoftwareFoundation.Python.3.10_qbz5n2kfra8p0\\python.exe -m pip install [options] <archive url/path> ...\n",
      "\n",
      "-e option requires 1 argument\n"
     ]
    }
   ],
   "source": [
    "if os.name == 'posix':\n",
    "    !apt-get install protobuf-compiler\n",
    "\n",
    "if os.name == 'nt':\n",
    "    #  url: \"https://github.com/protocolbuffers/protobuf/releases/download/v21.6/protobuf-python-4.21.6.zip\"\n",
    "    #  wget.download(url)\n",
    "    # !move protobuf-python-4.21.6.zip {paths['PROTOC_PATH']}\n",
    "    !cd {paths['PROTOC_PATH']} && tar -xf protobuf-python-4.21.6.zip\n",
    "    os.environ['PATH'] +=os.pathsep + os.path.abspath(os.path.join(paths['PROTOC_PATH'], 'bin'))\n",
    "    !cd Tensorflow/models/research && protoc object_detection/protos/*.proto --python_out =. && copy object_detection\\\\packages\\\\tf2\\\\setup.py && python setup.py build && python setup.py install\n",
    "    !cd Tensorflow/models/research/slim && pip install -e"
   ]
  },
  {
   "cell_type": "code",
   "execution_count": null,
   "metadata": {},
   "outputs": [],
   "source": []
  }
 ],
 "metadata": {
  "kernelspec": {
   "display_name": "Python 3.10.5 64-bit (microsoft store)",
   "language": "python",
   "name": "python3"
  },
  "language_info": {
   "codemirror_mode": {
    "name": "ipython",
    "version": 3
   },
   "file_extension": ".py",
   "mimetype": "text/x-python",
   "name": "python",
   "nbconvert_exporter": "python",
   "pygments_lexer": "ipython3",
   "version": "3.10.5"
  },
  "orig_nbformat": 4,
  "vscode": {
   "interpreter": {
    "hash": "d37458cfeccaf5cddad483b6b2c3b4669ea46156490176e87c952748d5e1e74a"
   }
  }
 },
 "nbformat": 4,
 "nbformat_minor": 2
}
