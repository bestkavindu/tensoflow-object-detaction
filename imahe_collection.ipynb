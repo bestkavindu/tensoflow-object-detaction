{
 "cells": [
  {
   "cell_type": "code",
   "execution_count": 2,
   "metadata": {},
   "outputs": [
    {
     "name": "stdout",
     "output_type": "stream",
     "text": [
      "Requirement already satisfied: opencv-python in c:\\users\\staff\\appdata\\local\\packages\\pythonsoftwarefoundation.python.3.10_qbz5n2kfra8p0\\localcache\\local-packages\\python310\\site-packages (4.6.0.66)\n",
      "Requirement already satisfied: numpy>=1.21.2 in c:\\users\\staff\\appdata\\local\\packages\\pythonsoftwarefoundation.python.3.10_qbz5n2kfra8p0\\localcache\\local-packages\\python310\\site-packages (from opencv-python) (1.23.1)\n",
      "Note: you may need to restart the kernel to use updated packages.\n"
     ]
    },
    {
     "name": "stderr",
     "output_type": "stream",
     "text": [
      "WARNING: You are using pip version 22.0.4; however, version 22.2.2 is available.\n",
      "You should consider upgrading via the 'C:\\Users\\Staff\\AppData\\Local\\Microsoft\\WindowsApps\\PythonSoftwareFoundation.Python.3.10_qbz5n2kfra8p0\\python.exe -m pip install --upgrade pip' command.\n"
     ]
    }
   ],
   "source": [
    "pip install opencv-python"
   ]
  },
  {
   "cell_type": "code",
   "execution_count": 3,
   "metadata": {},
   "outputs": [],
   "source": [
    "import cv2"
   ]
  },
  {
   "cell_type": "code",
   "execution_count": 4,
   "metadata": {},
   "outputs": [],
   "source": [
    "import uuid"
   ]
  },
  {
   "cell_type": "code",
   "execution_count": 5,
   "metadata": {},
   "outputs": [],
   "source": [
    "import os\n",
    "import time"
   ]
  },
  {
   "cell_type": "code",
   "execution_count": null,
   "metadata": {},
   "outputs": [],
   "source": [
    "labels =['thumbsup','thumbsdown','livelong','bye']\n",
    "labels = ['livelong']\n",
    "number_img = 5"
   ]
  },
  {
   "cell_type": "code",
   "execution_count": null,
   "metadata": {},
   "outputs": [],
   "source": [
    "IMAGES_PATH = os.path.join('tensoflow', 'workspace', 'images', 'collectedImages')"
   ]
  },
  {
   "cell_type": "code",
   "execution_count": null,
   "metadata": {},
   "outputs": [],
   "source": [
    "print(IMAGES_PATH)"
   ]
  },
  {
   "cell_type": "code",
   "execution_count": null,
   "metadata": {},
   "outputs": [],
   "source": [
    "os.name\n"
   ]
  },
  {
   "cell_type": "code",
   "execution_count": 17,
   "metadata": {},
   "outputs": [],
   "source": [
    "if not os.path.exists(IMAGES_PATH):\n",
    "    if os.name == 'posix':\n",
    "        !mkdir -p {IMAGES_PATH}\n",
    "    if os.name == 'nt':\n",
    "        !mkdir {IMAGES_PATH}\n",
    "for label in labels:\n",
    "    path = os.path.join(IMAGES_PATH, label)\n",
    "    if not os.path.exists(path):\n",
    "        !mkdir {path}"
   ]
  },
  {
   "cell_type": "code",
   "execution_count": 18,
   "metadata": {
    "scrolled": true
   },
   "outputs": [
    {
     "name": "stdout",
     "output_type": "stream",
     "text": [
      "collecting images for {} livelong\n",
      "collecting images {} 0\n",
      "collecting images {} 1\n",
      "collecting images {} 2\n",
      "collecting images {} 3\n",
      "collecting images {} 4\n"
     ]
    }
   ],
   "source": [
    " from platform import release\n",
    "\n",
    "\n",
    "for label in labels:\n",
    "    cap = cv2.VideoCapture(0)\n",
    "    print(\"collecting images for {}\",format(label))\n",
    "    time.sleep(5)\n",
    "    for imgnum in range(number_img):\n",
    "      print(\"collecting images {}\", format(imgnum))\n",
    "      ret, frame = cap.read()\n",
    "      imgname = os.path.join(IMAGES_PATH,label,label +'.'+ '{}.jpg'.format(str(uuid.uuid1())))\n",
    "      cv2.imwrite(imgname, frame)\n",
    "      cv2.imshow('frame', frame)\n",
    "      time.sleep(2)\n",
    "\n",
    "      if cv2.waitKey(1) & 0xFF == ord('q'):\n",
    "         break\n",
    "cap.release()\n",
    "cv2.destroyAllWindows()"
   ]
  },
  {
   "cell_type": "code",
   "execution_count": 20,
   "metadata": {
    "scrolled": true
   },
   "outputs": [
    {
     "name": "stdout",
     "output_type": "stream",
     "text": [
      "Requirement already satisfied: PyQt5 in c:\\project\\python\\tensflow-object-detaction\\tfod\\lib\\site-packages (5.15.7)\n",
      "Requirement already satisfied: PyQt5-sip<13,>=12.11 in c:\\project\\python\\tensflow-object-detaction\\tfod\\lib\\site-packages (from PyQt5) (12.11.0)\n",
      "Requirement already satisfied: PyQt5-Qt5>=5.15.0 in c:\\project\\python\\tensflow-object-detaction\\tfod\\lib\\site-packages (from PyQt5) (5.15.2)\n"
     ]
    }
   ],
   "source": [
    "!pip install PyQt5"
   ]
  },
  {
   "cell_type": "code",
   "execution_count": 43,
   "metadata": {},
   "outputs": [],
   "source": [
    "#Image labeling"
   ]
  },
  {
   "cell_type": "code",
   "execution_count": 21,
   "metadata": {},
   "outputs": [],
   "source": [
    "LABEL_IMG_PATH = os.path.join('tensoflow','labelimg')"
   ]
  },
  {
   "cell_type": "code",
   "execution_count": 22,
   "metadata": {},
   "outputs": [],
   "source": [
    "if not os.path.exists(LABEL_IMG_PATH):\n",
    "    !mkdir{LABEL_IMG_PATH}\n",
    "    !git clone https://github.com/heartexlabs/labelImg {LABEL_IMG_PATH}"
   ]
  },
  {
   "cell_type": "code",
   "execution_count": 23,
   "metadata": {},
   "outputs": [],
   "source": [
    "if os.name == 'posix':\n",
    "    !cd {LABEL_IMG_PATH} make qt5py3\n",
    "if os.name == 'nt':\n",
    "    !cd {LABEL_IMG_PATH } && pyrcc5 -o libs/resources.py resources.qrc"
   ]
  },
  {
   "cell_type": "code",
   "execution_count": 24,
   "metadata": {},
   "outputs": [
    {
     "name": "stdout",
     "output_type": "stream",
     "text": [
      "Requirement already satisfied: lxml in c:\\project\\python\\tensflow-object-detaction\\tfod\\lib\\site-packages (4.9.1)\n"
     ]
    }
   ],
   "source": [
    "LABEL_IMG_PATH\n",
    "!pip install --upgrade lxml"
   ]
  },
  {
   "cell_type": "code",
   "execution_count": 26,
   "metadata": {},
   "outputs": [
    {
     "name": "stdout",
     "output_type": "stream",
     "text": [
      "Image:C:\\project\\python\\tensflow-object-detaction\\tensoflow\\workspace\\images\\collectedImages\\livelong\\1.jpg -> Annotation:C:/project/python/tensflow-object-detaction/tensoflow/workspace/images/collectedImages/livelong\\1.xml\n",
      "Image:C:\\project\\python\\tensflow-object-detaction\\tensoflow\\workspace\\images\\collectedImages\\livelong\\1.jpg -> Annotation:C:/project/python/tensflow-object-detaction/tensoflow/workspace/images/collectedImages/livelong/1.xml\n",
      "Image:C:\\project\\python\\tensflow-object-detaction\\tensoflow\\workspace\\images\\collectedImages\\livelong\\2.jpg -> Annotation:C:/project/python/tensflow-object-detaction/tensoflow/workspace/images/collectedImages/livelong\\2.xml\n",
      "Image:C:\\project\\python\\tensflow-object-detaction\\tensoflow\\workspace\\images\\collectedImages\\livelong\\3.jpg -> Annotation:C:/project/python/tensflow-object-detaction/tensoflow/workspace/images/collectedImages/livelong\\3.xml\n",
      "Image:C:\\project\\python\\tensflow-object-detaction\\tensoflow\\workspace\\images\\collectedImages\\livelong\\4.jpg -> Annotation:C:/project/python/tensflow-object-detaction/tensoflow/workspace/images/collectedImages/livelong\\4.xml\n",
      "Image:C:\\project\\python\\tensflow-object-detaction\\tensoflow\\workspace\\images\\collectedImages\\livelong\\5.jpg -> Annotation:C:/project/python/tensflow-object-detaction/tensoflow/workspace/images/collectedImages/livelong\\5.xml\n",
      "Image:C:\\project\\python\\tensflow-object-detaction\\tensoflow\\workspace\\images\\collectedImages\\bye\\1.jpg -> Annotation:C:/project/python/tensflow-object-detaction/tensoflow/workspace/images/collectedImages/bye\\1.xml\n",
      "Image:C:\\project\\python\\tensflow-object-detaction\\tensoflow\\workspace\\images\\collectedImages\\bye\\2.jpg -> Annotation:C:/project/python/tensflow-object-detaction/tensoflow/workspace/images/collectedImages/bye\\2.xml\n",
      "Image:C:\\project\\python\\tensflow-object-detaction\\tensoflow\\workspace\\images\\collectedImages\\bye\\3.jpg -> Annotation:C:/project/python/tensflow-object-detaction/tensoflow/workspace/images/collectedImages/bye\\3.xml\n",
      "Image:C:\\project\\python\\tensflow-object-detaction\\tensoflow\\workspace\\images\\collectedImages\\bye\\4.jpg -> Annotation:C:/project/python/tensflow-object-detaction/tensoflow/workspace/images/collectedImages/bye\\4.xml\n",
      "Image:C:\\project\\python\\tensflow-object-detaction\\tensoflow\\workspace\\images\\collectedImages\\bye\\5.jpg -> Annotation:C:/project/python/tensflow-object-detaction/tensoflow/workspace/images/collectedImages/bye\\5.xml\n",
      "Image:C:\\project\\python\\tensflow-object-detaction\\tensoflow\\workspace\\images\\collectedImages\\thumbsdown\\1.jpg -> Annotation:C:/project/python/tensflow-object-detaction/tensoflow/workspace/images/collectedImages/thumbsdown\\1.xml\n",
      "Image:C:\\project\\python\\tensflow-object-detaction\\tensoflow\\workspace\\images\\collectedImages\\thumbsdown\\2.jpg -> Annotation:C:/project/python/tensflow-object-detaction/tensoflow/workspace/images/collectedImages/thumbsdown\\2.xml\n",
      "Image:C:\\project\\python\\tensflow-object-detaction\\tensoflow\\workspace\\images\\collectedImages\\thumbsdown\\3.jpg -> Annotation:C:/project/python/tensflow-object-detaction/tensoflow/workspace/images/collectedImages/thumbsdown\\3.xml\n",
      "Image:C:\\project\\python\\tensflow-object-detaction\\tensoflow\\workspace\\images\\collectedImages\\thumbsdown\\4.jpg -> Annotation:C:/project/python/tensflow-object-detaction/tensoflow/workspace/images/collectedImages/thumbsdown\\4.xml\n",
      "Image:C:\\project\\python\\tensflow-object-detaction\\tensoflow\\workspace\\images\\collectedImages\\thumbsdown\\5.jpg -> Annotation:C:/project/python/tensflow-object-detaction/tensoflow/workspace/images/collectedImages/thumbsdown\\5.xml\n",
      "Image:C:\\project\\python\\tensflow-object-detaction\\tensoflow\\workspace\\images\\collectedImages\\thumbsup\\1.jpg -> Annotation:C:/project/python/tensflow-object-detaction/tensoflow/workspace/images/collectedImages/thumbsup\\1.xml\n",
      "Image:C:\\project\\python\\tensflow-object-detaction\\tensoflow\\workspace\\images\\collectedImages\\thumbsup\\2.jpg -> Annotation:C:/project/python/tensflow-object-detaction/tensoflow/workspace/images/collectedImages/thumbsup\\2.xml\n",
      "Image:C:\\project\\python\\tensflow-object-detaction\\tensoflow\\workspace\\images\\collectedImages\\thumbsup\\3.jpg -> Annotation:C:/project/python/tensflow-object-detaction/tensoflow/workspace/images/collectedImages/thumbsup\\3.xml\n",
      "Image:C:\\project\\python\\tensflow-object-detaction\\tensoflow\\workspace\\images\\collectedImages\\thumbsup\\4.jpg -> Annotation:C:/project/python/tensflow-object-detaction/tensoflow/workspace/images/collectedImages/thumbsup\\4.xml\n",
      "Image:C:\\project\\python\\tensflow-object-detaction\\tensoflow\\workspace\\images\\collectedImages\\thumbsup\\5.jpg -> Annotation:C:/project/python/tensflow-object-detaction/tensoflow/workspace/images/collectedImages/thumbsup\\5.xml\n"
     ]
    }
   ],
   "source": [
    "!cd {LABEL_IMG_PATH} && python labelimg.py"
   ]
  },
  {
   "cell_type": "code",
   "execution_count": 6,
   "metadata": {},
   "outputs": [],
   "source": [
    "#training model"
   ]
  },
  {
   "cell_type": "code",
   "execution_count": null,
   "metadata": {},
   "outputs": [],
   "source": []
  }
 ],
 "metadata": {
  "kernelspec": {
   "display_name": "Python 3 (ipykernel)",
   "language": "python",
   "name": "python3"
  },
  "language_info": {
   "codemirror_mode": {
    "name": "ipython",
    "version": 3
   },
   "file_extension": ".py",
   "mimetype": "text/x-python",
   "name": "python",
   "nbconvert_exporter": "python",
   "pygments_lexer": "ipython3",
   "version": "3.10.5"
  },
  "vscode": {
   "interpreter": {
    "hash": "d37458cfeccaf5cddad483b6b2c3b4669ea46156490176e87c952748d5e1e74a"
   }
  }
 },
 "nbformat": 4,
 "nbformat_minor": 2
}
